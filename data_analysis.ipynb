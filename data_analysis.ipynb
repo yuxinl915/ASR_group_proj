{
 "cells": [
  {
   "cell_type": "code",
   "execution_count": 1,
   "metadata": {},
   "outputs": [],
   "source": [
    "# Yuxin Lu, yuxinlu\n",
    "import numpy as np\n",
    "import pandas as pd\n",
    "import os\n",
    "from feature_extraction import read_emg_data, preprocess_emg, extract_features"
   ]
  },
  {
   "cell_type": "code",
   "execution_count": 2,
   "metadata": {},
   "outputs": [
    {
     "name": "stdout",
     "output_type": "stream",
     "text": [
      "['s10_r_1', 's10_r_2', 's10_r_3', 's11_r_1', 's11_r_2', 's11_r_3', 's11_r_4', 's11_r_5', 's11_r_6', 's12_r_1', 's12_r_2', 's12_r_3', 's13_r_1', 's13_r_2', 's13_r_3', 's13_r_4', 's13_r_5', 's13_r_6', 's1_r_1', 's1_r_2', 's1_r_3', 's1_r_4', 's1_r_5', 's1_r_6', 's2_l_1', 's2_l_2', 's2_l_3', 's2_l_4', 's2_l_5', 's2_l_6', 's3_r_1', 's3_r_2', 's3_r_3', 's3_r_4', 's3_r_5', 's3_r_6', 's4_r_1', 's4_r_2', 's4_r_3', 's4_r_4', 's4_r_5', 's4_r_6', 's5_r_1', 's5_r_2', 's5_r_3', 's6_r_1', 's6_r_2', 's6_r_3', 's6_r_4', 's6_r_5', 's6_r_6', 's7_r_1', 's7_r_2', 's7_r_3', 's8_r_1', 's8_r_2', 's8_r_3', 's8_r_4', 's8_r_5', 's8_r_6', 's9_r_1', 's9_r_2', 's9_r_3']\n",
      "['s10_r_1', 's10_r_2', 's10_r_3', 's11_r_1', 's11_r_2', 's11_r_3', 's11_r_4', 's11_r_5', 's11_r_6', 's12_r_1', 's12_r_2', 's12_r_3', 's13_r_1', 's13_r_2', 's13_r_3', 's13_r_4', 's13_r_5', 's13_r_6', 's1_r_1', 's1_r_2', 's1_r_3', 's1_r_4', 's1_r_5', 's1_r_6', 's3_r_1', 's3_r_2', 's3_r_3', 's3_r_4', 's3_r_5', 's3_r_6', 's4_r_1', 's4_r_2', 's4_r_3', 's4_r_4', 's4_r_5', 's4_r_6', 's5_r_1', 's5_r_2', 's5_r_3', 's6_r_1', 's6_r_2', 's6_r_3', 's6_r_4', 's6_r_5', 's6_r_6', 's7_r_1', 's7_r_2', 's7_r_3', 's8_r_1', 's8_r_2', 's8_r_3', 's8_r_4', 's8_r_5', 's8_r_6', 's9_r_1', 's9_r_2', 's9_r_3']\n",
      "['s10_r_1-paper-0-emg.csv', 's10_r_1-paper-0-meta.yaml', 's10_r_1-paper-0-orientation.csv', 's10_r_1-paper-0-pose.csv', 's10_r_1-paper-1-emg.csv', 's10_r_1-paper-1-meta.yaml', 's10_r_1-paper-1-orientation.csv', 's10_r_1-paper-1-pose.csv', 's10_r_1-paper-2-emg.csv', 's10_r_1-paper-2-meta.yaml', 's10_r_1-paper-2-orientation.csv', 's10_r_1-paper-2-pose.csv', 's10_r_1-paper-3-emg.csv', 's10_r_1-paper-3-meta.yaml', 's10_r_1-paper-3-orientation.csv', 's10_r_1-paper-3-pose.csv', 's10_r_1-paper-4-emg.csv', 's10_r_1-paper-4-meta.yaml', 's10_r_1-paper-4-orientation.csv', 's10_r_1-paper-4-pose.csv', 's10_r_1-paper-5-emg.csv', 's10_r_1-paper-5-meta.yaml', 's10_r_1-paper-5-orientation.csv', 's10_r_1-paper-5-pose.csv', 's10_r_1-paper-6-emg.csv', 's10_r_1-paper-6-meta.yaml', 's10_r_1-paper-6-orientation.csv', 's10_r_1-paper-6-pose.csv', 's10_r_1-paper-7-emg.csv', 's10_r_1-paper-7-meta.yaml', 's10_r_1-paper-7-orientation.csv', 's10_r_1-paper-7-pose.csv', 's10_r_1-paper-8-emg.csv', 's10_r_1-paper-8-meta.yaml', 's10_r_1-paper-8-orientation.csv', 's10_r_1-paper-8-pose.csv', 's10_r_1-paper-9-emg.csv', 's10_r_1-paper-9-meta.yaml', 's10_r_1-paper-9-orientation.csv', 's10_r_1-paper-9-pose.csv', 's10_r_1-rock-0-emg.csv', 's10_r_1-rock-0-meta.yaml', 's10_r_1-rock-0-orientation.csv', 's10_r_1-rock-0-pose.csv', 's10_r_1-rock-1-emg.csv', 's10_r_1-rock-1-meta.yaml', 's10_r_1-rock-1-orientation.csv', 's10_r_1-rock-1-pose.csv', 's10_r_1-rock-2-emg.csv', 's10_r_1-rock-2-meta.yaml', 's10_r_1-rock-2-orientation.csv', 's10_r_1-rock-2-pose.csv', 's10_r_1-rock-3-emg.csv', 's10_r_1-rock-3-meta.yaml', 's10_r_1-rock-3-orientation.csv', 's10_r_1-rock-4-emg.csv', 's10_r_1-rock-4-meta.yaml', 's10_r_1-rock-4-orientation.csv', 's10_r_1-rock-4-pose.csv', 's10_r_1-rock-5-emg.csv', 's10_r_1-rock-5-meta.yaml', 's10_r_1-rock-5-orientation.csv', 's10_r_1-rock-5-pose.csv', 's10_r_1-rock-6-emg.csv', 's10_r_1-rock-6-meta.yaml', 's10_r_1-rock-6-orientation.csv', 's10_r_1-rock-6-pose.csv', 's10_r_1-rock-7-emg.csv', 's10_r_1-rock-7-meta.yaml', 's10_r_1-rock-7-orientation.csv', 's10_r_1-rock-7-pose.csv', 's10_r_1-rock-8-emg.csv', 's10_r_1-rock-8-meta.yaml', 's10_r_1-rock-8-orientation.csv', 's10_r_1-rock-8-pose.csv', 's10_r_1-rock-9-emg.csv', 's10_r_1-rock-9-meta.yaml', 's10_r_1-rock-9-orientation.csv', 's10_r_1-rock-9-pose.csv', 's10_r_1-scissors-0-emg.csv', 's10_r_1-scissors-0-meta.yaml', 's10_r_1-scissors-0-orientation.csv', 's10_r_1-scissors-0-pose.csv', 's10_r_1-scissors-1-emg.csv', 's10_r_1-scissors-1-meta.yaml', 's10_r_1-scissors-1-orientation.csv', 's10_r_1-scissors-1-pose.csv', 's10_r_1-scissors-2-emg.csv', 's10_r_1-scissors-2-meta.yaml', 's10_r_1-scissors-2-orientation.csv', 's10_r_1-scissors-2-pose.csv', 's10_r_1-scissors-3-emg.csv', 's10_r_1-scissors-3-meta.yaml', 's10_r_1-scissors-3-orientation.csv', 's10_r_1-scissors-3-pose.csv', 's10_r_1-scissors-4-emg.csv', 's10_r_1-scissors-4-meta.yaml', 's10_r_1-scissors-4-orientation.csv', 's10_r_1-scissors-4-pose.csv', 's10_r_1-scissors-5-emg.csv', 's10_r_1-scissors-5-meta.yaml', 's10_r_1-scissors-5-orientation.csv', 's10_r_1-scissors-5-pose.csv', 's10_r_1-scissors-6-emg.csv', 's10_r_1-scissors-6-meta.yaml', 's10_r_1-scissors-6-orientation.csv', 's10_r_1-scissors-7-emg.csv', 's10_r_1-scissors-7-meta.yaml', 's10_r_1-scissors-7-orientation.csv', 's10_r_1-scissors-7-pose.csv', 's10_r_1-scissors-8-emg.csv', 's10_r_1-scissors-8-meta.yaml', 's10_r_1-scissors-8-orientation.csv', 's10_r_1-scissors-8-pose.csv', 's10_r_1-scissors-9-emg.csv', 's10_r_1-scissors-9-meta.yaml', 's10_r_1-scissors-9-orientation.csv', 's10_r_1-scissors-9-pose.csv']\n"
     ]
    }
   ],
   "source": [
    "print(os.listdir('./dataset'))\n",
    "print([filename for filename in os.listdir('./dataset') if '_r_' in filename])\n",
    "print(os.listdir(os.path.join('dataset', 's10_r_1')))"
   ]
  },
  {
   "cell_type": "code",
   "execution_count": 3,
   "metadata": {},
   "outputs": [
    {
     "name": "stdout",
     "output_type": "stream",
     "text": [
      "(1710, 7, 8)\n",
      "(1710, 56)\n",
      "[[2.27591847e+03 7.68869529e+03 1.34665242e+04 2.74055487e+03\n",
      "  1.48398911e+03 9.62779070e+03 9.21911786e+03 3.04446265e+03]\n",
      " [6.33960576e+00 2.14169785e+01 3.75112095e+01 7.63385759e+00\n",
      "  4.13367440e+00 2.68183585e+01 2.56799940e+01 8.48039734e+00]\n",
      " [2.80682070e+04 3.22770122e+05 8.72890139e+05 4.25620788e+04\n",
      "  1.09380760e+04 5.61188659e+05 5.34648097e+05 5.98904299e+04]\n",
      " [1.20010227e+02 1.02704651e+02 1.27374577e+02 1.11259459e+02\n",
      "  1.22835981e+02 1.13999332e+02 1.11006089e+02 1.15239789e+02]\n",
      " [2.84042793e+02 2.87589038e+02 2.62050384e+02 2.72500209e+02\n",
      "  2.62864004e+02 3.11569942e+02 3.09335004e+02 2.53995371e+02]\n",
      " [7.81818938e+01 8.99080903e+02 2.43139859e+03 1.18554712e+02\n",
      "  3.04679696e+01 1.56319961e+03 1.48927032e+03 1.66825632e+02]\n",
      " [8.84219546e+00 2.99846814e+01 4.93097237e+01 1.08884031e+01\n",
      "  5.51979874e+00 3.95373192e+01 3.85910672e+01 1.29161027e+01]]\n",
      "0\n"
     ]
    }
   ],
   "source": [
    "start_root = 'dataset'\n",
    "# only consider right hands\n",
    "folders_names = [foldername for foldername in os.listdir(start_root) if '_r_' in foldername]\n",
    "X = list()\n",
    "y = list()\n",
    "\n",
    "# all possible gestures\n",
    "codomains = ['paper', 'rock', 'scissors']\n",
    "\n",
    "for foldername in folders_names:\n",
    "    folder_path = os.path.join(start_root, foldername)\n",
    "    for filename in os.listdir(folder_path):\n",
    "        # only care about emg files\n",
    "        if 'emg' not in filename:\n",
    "            continue\n",
    "        # extract the gt label from the filename\n",
    "        y += [labelIdx for labelIdx, labelname in enumerate(codomains) if labelname in filename]\n",
    "        # extract features\n",
    "        file_path = os.path.join(folder_path, filename)\n",
    "        raw_data = read_emg_data(file_path)\n",
    "        filtered_data = preprocess_emg(raw_data.values)\n",
    "        features = extract_features(filtered_data.T)\n",
    "        X.append(features)\n",
    "\n",
    "X = np.array(X)\n",
    "print(X.shape)\n",
    "print(X.reshape(X.shape[0], -1).shape)\n",
    "print(X[0])\n",
    "y = np.array(y)\n",
    "print(y[0])\n"
   ]
  },
  {
   "cell_type": "code",
   "execution_count": 4,
   "metadata": {},
   "outputs": [
    {
     "name": "stdout",
     "output_type": "stream",
     "text": [
      "[2.27591847e+03 7.68869529e+03 1.34665242e+04 2.74055487e+03\n",
      " 1.48398911e+03 9.62779070e+03 9.21911786e+03 3.04446265e+03\n",
      " 6.33960576e+00 2.14169785e+01 3.75112095e+01 7.63385759e+00\n",
      " 4.13367440e+00 2.68183585e+01 2.56799940e+01 8.48039734e+00\n",
      " 2.80682070e+04 3.22770122e+05 8.72890139e+05 4.25620788e+04\n",
      " 1.09380760e+04 5.61188659e+05 5.34648097e+05 5.98904299e+04\n",
      " 1.20010227e+02 1.02704651e+02 1.27374577e+02 1.11259459e+02\n",
      " 1.22835981e+02 1.13999332e+02 1.11006089e+02 1.15239789e+02\n",
      " 2.84042793e+02 2.87589038e+02 2.62050384e+02 2.72500209e+02\n",
      " 2.62864004e+02 3.11569942e+02 3.09335004e+02 2.53995371e+02\n",
      " 7.81818938e+01 8.99080903e+02 2.43139859e+03 1.18554712e+02\n",
      " 3.04679696e+01 1.56319961e+03 1.48927032e+03 1.66825632e+02\n",
      " 8.84219546e+00 2.99846814e+01 4.93097237e+01 1.08884031e+01\n",
      " 5.51979874e+00 3.95373192e+01 3.85910672e+01 1.29161027e+01]\n",
      "2\n"
     ]
    }
   ],
   "source": [
    "X = X.reshape(X.shape[0], -1)\n",
    "print(X[0])\n",
    "print(y[29])"
   ]
  },
  {
   "cell_type": "code",
   "execution_count": 5,
   "metadata": {},
   "outputs": [
    {
     "name": "stdout",
     "output_type": "stream",
     "text": [
      "0.8194444444444444\n"
     ]
    }
   ],
   "source": [
    "from sklearn.model_selection import cross_val_score\n",
    "from sklearn.naive_bayes import GaussianNB\n",
    "from sklearn.svm import SVC\n",
    "from sklearn.ensemble import RandomForestClassifier\n",
    "from sklearn.metrics import accuracy_score\n",
    "import xgboost as xgb\n",
    "\n",
    "\n",
    "np.random.seed(2024)\n",
    "idices = list(range(y.shape[0]))\n",
    "np.random.shuffle(idices)\n",
    "\n",
    "train_idices = idices[:int(len(idices)*0.2)]\n",
    "remain_idices = idices[int(len(idices)*0.2):]\n",
    "\n",
    "\n",
    "clf = xgb.XGBClassifier(random_state=2024)\n",
    "clf.fit(X[train_idices], y[train_idices])\n",
    "y_pred = clf.predict(X[remain_idices])\n",
    "print(accuracy_score(y[remain_idices], y_pred))\n",
    "# SVC: 0.6703\n",
    "# RandomForest: 0.8224\n",
    "# GaussianNB: 0.6170\n",
    "# XGBoost: 0.8194\n",
    "\n"
   ]
  }
 ],
 "metadata": {
  "kernelspec": {
   "display_name": "basicDA",
   "language": "python",
   "name": "python3"
  },
  "language_info": {
   "codemirror_mode": {
    "name": "ipython",
    "version": 3
   },
   "file_extension": ".py",
   "mimetype": "text/x-python",
   "name": "python",
   "nbconvert_exporter": "python",
   "pygments_lexer": "ipython3",
   "version": "3.11.4"
  }
 },
 "nbformat": 4,
 "nbformat_minor": 2
}
