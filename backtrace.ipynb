{
 "cells": [
  {
   "cell_type": "markdown",
   "metadata": {},
   "source": [
    "Read in the points selected by our active learning strategies"
   ]
  },
  {
   "cell_type": "code",
   "execution_count": 3,
   "metadata": {},
   "outputs": [
    {
     "name": "stdout",
     "output_type": "stream",
     "text": [
      "<class 'dict'>\n",
      "<class 'dict'>\n",
      "[1039, 1318, 1140, 679, 597, 66, 85, 520, 92, 1273, 1409, 122, 254, 414, 483, 858, 665, 17, 1673, 482, 52, 1389, 1616, 1498, 1368, 1246, 1695, 532, 1147, 156, 432, 159, 1390, 794, 1317, 1001, 536, 1632, 944, 1114, 379, 535, 963, 553, 996, 1044, 1692, 1164, 229, 1459, 1572, 576, 322, 651, 1196, 940, 223, 381, 1569, 342, 1676, 1109, 745, 957, 1235, 141, 347, 271, 1644, 1054, 1186, 867, 1170, 1086, 240, 4, 204, 795, 152, 526, 711, 219, 979, 1177, 813, 1366, 994, 446, 443, 425, 1149, 1291, 31, 648, 1397, 1334, 299, 1121, 1508, 1093, 1302, 438, 1645, 897, 1332, 706, 89, 575, 475, 1335, 1245, 177, 582, 378, 984, 1492, 1615, 1049, 1013, 1175, 823, 1355, 1294, 452, 326, 1101, 171, 1507, 270, 227, 557, 538, 1461, 1236, 946, 1516, 513, 792, 192, 260, 1521, 1477, 1411, 1283, 308, 906, 440, 977, 1018, 1646, 442, 563, 652, 841, 1566, 461, 133, 202, 1548, 930, 546, 1000, 743, 317, 142, 473, 616, 1168, 995, 315, 689, 170, 1630, 1482, 1553, 1493, 1638, 361, 22, 991, 45, 921, 1594, 61, 911, 1468, 319, 489, 1244, 1491, 1222, 1479, 1190, 602, 1443, 27, 527, 825, 289, 898, 1530, 1076, 678, 210, 692, 512, 771, 1702, 549, 1045, 619, 775, 2, 1301, 1450, 674, 1096, 1210, 688, 211, 1024, 1626, 1484, 1535, 567, 1513, 1396, 1271, 1005, 838, 96, 178, 108, 1135, 725, 1295, 511, 1257, 1, 938, 1354, 1412, 554, 48, 722, 1422, 744, 1402, 907, 1084, 615, 516, 1259, 1449, 231, 759, 982, 1116, 77, 434, 215, 1665, 1603, 539, 354, 55, 1127, 685, 1255, 1364, 279, 981, 1544, 224, 302, 993, 218, 436, 1438, 1587, 1248, 861, 1187, 372, 295, 364, 762, 1358, 1154, 1266, 402, 655, 333, 1481, 1269, 399, 826, 1556, 1675, 1262, 1650, 565, 1142, 649, 646, 593, 914, 578, 362, 999, 458, 1286, 808, 568, 955, 542, 276, 961, 184, 987, 1253, 522, 1585, 1519, 1555, 376, 1464, 781, 1095, 1584, 1051, 42, 1247, 1027, 893, 1429, 1663, 1282, 198, 309, 1671, 519, 1264, 574, 1079, 1321, 654, 581, 420, 1393, 1309, 140, 878, 829, 783, 1200, 1150, 1377, 258, 905, 720, 933, 114, 241, 330, 1701, 56, 937, 411, 435, 724, 609, 924, 1128, 728, 29, 35, 1209, 422, 1428, 1549, 1441, 1595, 1064, 1220, 524, 1425, 1050, 1452, 1333, 1451, 1430, 570, 965, 960, 1110, 862, 548, 801]\n",
      "1039\n",
      "dataset/s4_r_5/s4_r_5-rock-9-emg.csv\n",
      "<class 'dict'>\n",
      "<class 'dict'>\n",
      "[1039, 1318, 1140, 679, 597, 66, 85, 520, 92, 1273, 1409, 122, 254, 414, 483, 858, 665, 17, 1673, 482, 52, 1389, 1616, 1498, 1368, 1246, 1695, 532, 1147, 156, 432, 159, 1390, 794, 1317, 1001, 536, 1632, 944, 1114, 379, 535, 963, 553, 996, 1044, 1692, 1164, 229, 1459, 1572, 576, 322, 651, 1196, 940, 223, 381, 1569, 342, 1676, 1109, 745, 957, 1235, 141, 347, 271, 1644, 1054, 1186, 867, 1170, 1086, 240, 4, 204, 795, 152, 526, 711, 219, 979, 1177, 813, 1366, 994, 446, 443, 425, 1149, 1291, 31, 648, 1397, 1334, 299, 1121, 1508, 1093, 1302, 438, 1645, 897, 1332, 706, 89, 575, 475, 1335, 1245, 177, 582, 378, 984, 1492, 1615, 1049, 1013, 1175, 823, 1355, 1294, 452, 326, 1101, 171, 1507, 270, 227, 557, 538, 1461, 1236, 946, 1516, 513, 792, 192, 260, 1521, 1477, 1411, 1283, 308, 906, 440, 977, 1018, 1646, 442, 563, 652, 841, 1566, 461, 133, 202, 1548, 930, 546, 1000, 743, 317, 142, 473, 616, 1168, 995, 315, 689, 170, 1630, 1482, 1553, 1493, 1638, 361, 22, 991, 45, 921, 1594, 61, 911, 1468, 319, 489, 1244, 1491, 1222, 1479, 1190, 602, 1443, 27, 527, 825, 289, 898, 1530, 1076, 678, 210, 692, 512, 771, 1702, 549, 1045, 619, 775, 2, 1301, 1450, 674, 1096, 1210, 688, 211, 1024, 1626, 1484, 1535, 567, 1513, 1396, 1271, 1005, 838, 96, 178, 108, 1135, 725, 1295, 511, 1257, 1, 938, 1354, 1412, 554, 48, 722, 1422, 744, 1402, 907, 1084, 615, 516, 1259, 1449, 231, 759, 982, 1116, 77, 434, 215, 1665, 1603, 539, 354, 55, 1127, 685, 1255, 1364, 279, 981, 1544, 224, 302, 993, 218, 436, 1438, 1587, 1248, 861, 1187, 372, 295, 364, 762, 1358, 1154, 1266, 402, 655, 333, 1481, 1269, 399, 826, 1556, 1675, 1262, 1650, 565, 1142, 649, 646, 593, 914, 578, 362, 999, 458, 1286, 808, 568, 955, 542, 276, 961, 184, 987, 1253, 522, 1585, 1519, 1555, 376, 1464, 781, 1095, 1584, 1051, 42, 1247, 1027, 893, 1429, 1663, 1282, 198, 309, 1671, 519, 1264, 574, 1079, 1321, 654, 581, 420, 1393, 1309, 140, 878, 829, 783, 1200, 1150, 1377, 258, 905, 720, 933, 114, 241, 330, 1701, 56, 937, 411, 435, 724, 609, 924, 1128, 728, 29, 35, 1209, 422, 1428, 1549, 1441, 1595, 1064, 1220, 524, 1425, 1050, 1452, 1333, 1451, 1430, 570, 965, 960, 1110, 862, 548, 801]\n",
      "1318\n",
      "dataset/s6_r_5/s6_r_5-scissors-8-emg.csv\n",
      "<class 'dict'>\n",
      "<class 'dict'>\n",
      "[1039, 1318, 1140, 679, 597, 66, 85, 520, 92, 1273, 1409, 122, 254, 414, 483, 858, 665, 17, 1673, 482, 52, 1389, 1616, 1498, 1368, 1246, 1695, 532, 1147, 156, 432, 159, 1390, 794, 1317, 1001, 536, 1632, 944, 1114, 379, 535, 963, 553, 996, 1044, 1692, 1164, 229, 1459, 1572, 576, 322, 651, 1196, 940, 223, 381, 1569, 342, 1676, 1109, 745, 957, 1235, 141, 347, 271, 1644, 1054, 1186, 867, 1170, 1086, 240, 4, 204, 795, 152, 526, 711, 219, 979, 1177, 813, 1366, 994, 446, 443, 425, 1149, 1291, 31, 648, 1397, 1334, 299, 1121, 1508, 1093, 1302, 438, 1645, 897, 1332, 706, 89, 575, 475, 1335, 1245, 177, 582, 378, 984, 1492, 1615, 1049, 1013, 1175, 823, 1355, 1294, 452, 326, 1101, 171, 1507, 270, 227, 557, 538, 1461, 1236, 946, 1516, 513, 792, 192, 260, 1521, 1477, 1411, 1283, 308, 906, 440, 977, 1018, 1646, 442, 563, 652, 841, 1566, 461, 133, 202, 1548, 930, 546, 1000, 743, 317, 142, 473, 616, 1168, 995, 315, 689, 170, 1630, 1482, 1553, 1493, 1638, 361, 22, 991, 45, 921, 1594, 61, 911, 1468, 319, 489, 1244, 1491, 1222, 1479, 1190, 602, 1443, 27, 527, 825, 289, 898, 1530, 1076, 678, 210, 692, 512, 771, 1702, 549, 1045, 619, 775, 2, 1301, 1450, 674, 1096, 1210, 688, 211, 1024, 1626, 1484, 1535, 567, 1513, 1396, 1271, 1005, 838, 96, 178, 108, 1135, 725, 1295, 511, 1257, 1, 938, 1354, 1412, 554, 48, 722, 1422, 744, 1402, 907, 1084, 615, 516, 1259, 1449, 231, 759, 982, 1116, 77, 434, 215, 1665, 1603, 539, 354, 55, 1127, 685, 1255, 1364, 279, 981, 1544, 224, 302, 993, 218, 436, 1438, 1587, 1248, 861, 1187, 372, 295, 364, 762, 1358, 1154, 1266, 402, 655, 333, 1481, 1269, 399, 826, 1556, 1675, 1262, 1650, 565, 1142, 649, 646, 593, 914, 578, 362, 999, 458, 1286, 808, 568, 955, 542, 276, 961, 184, 987, 1253, 522, 1585, 1519, 1555, 376, 1464, 781, 1095, 1584, 1051, 42, 1247, 1027, 893, 1429, 1663, 1282, 198, 309, 1671, 519, 1264, 574, 1079, 1321, 654, 581, 420, 1393, 1309, 140, 878, 829, 783, 1200, 1150, 1377, 258, 905, 720, 933, 114, 241, 330, 1701, 56, 937, 411, 435, 724, 609, 924, 1128, 728, 29, 35, 1209, 422, 1428, 1549, 1441, 1595, 1064, 1220, 524, 1425, 1050, 1452, 1333, 1451, 1430, 570, 965, 960, 1110, 862, 548, 801]\n",
      "1140\n",
      "dataset/s5_r_3/s5_r_3-paper-0-emg.csv\n"
     ]
    }
   ],
   "source": [
    "import pickle\n",
    "import numpy as np\n",
    "# read in the selcted points\n",
    "with open('selected_passive.pkl', 'rb') as f:\n",
    "    selected_points = pickle.load(f)\n",
    "# read in the idices_to_filepath dictionary\n",
    "with open('idices_to_filepaths_dict.pkl', 'rb') as f:\n",
    "    indices_to_filepaths = pickle.load(f)\n",
    "\n",
    "# get the name of the first batch of selected points\n",
    "BATCH_SIZE = 3\n",
    "for i in range (BATCH_SIZE):\n",
    "    print(type(indices_to_filepaths))\n",
    "    print(type(selected_points))\n",
    "\n",
    "    # this means the points selected during the simulation with random seed 1\n",
    "    print(selected_points[0])\n",
    "\n",
    "    # this means the first random seed with ith selected point\n",
    "    print(selected_points[0][i])\n",
    "\n",
    "    print(indices_to_filepaths[selected_points[0][i]])"
   ]
  },
  {
   "cell_type": "code",
   "execution_count": 2,
   "metadata": {},
   "outputs": [
    {
     "name": "stdout",
     "output_type": "stream",
     "text": [
      "dataset/s8_r_3/s8_r_3-rock-6-emg.csv\n",
      "dataset/s1_r_6/s1_r_6-rock-0-emg.csv\n",
      "dataset/s1_r_6/s1_r_6-rock-1-emg.csv\n"
     ]
    }
   ],
   "source": [
    "import pickle\n",
    "import numpy as np\n",
    "# read in the selcted points\n",
    "with open('certain_US.pkl', 'rb') as f:\n",
    "    selected_points2 = pickle.load(f)\n",
    "# read in the idices_to_filepath dictionary\n",
    "with open('idices_to_filepaths_dict.pkl', 'rb') as f:\n",
    "    indices_to_filepaths = pickle.load(f)\n",
    "\n",
    "# get the name of the first batch of selected points\n",
    "BATCH_SIZE = 3\n",
    "for i in range (BATCH_SIZE):\n",
    "    print(indices_to_filepaths[selected_points2[0][i]])"
   ]
  },
  {
   "cell_type": "code",
   "execution_count": 9,
   "metadata": {
    "scrolled": true
   },
   "outputs": [
    {
     "name": "stdout",
     "output_type": "stream",
     "text": [
      "dataset/s4_r_5/s4_r_5-rock-9-emg.csv\n",
      "dataset/s8_r_3/s8_r_3-rock-6-emg.csv\n",
      "dataset/s6_r_5/s6_r_5-scissors-8-emg.csv\n",
      "dataset/s1_r_6/s1_r_6-rock-0-emg.csv\n",
      "dataset/s5_r_3/s5_r_3-paper-0-emg.csv\n",
      "dataset/s1_r_6/s1_r_6-rock-1-emg.csv\n"
     ]
    },
    {
     "data": {
      "text/plain": [
       "(['dataset/s4_r_5/s4_r_5-rock-9-emg.csv',\n",
       "  'dataset/s6_r_5/s6_r_5-scissors-8-emg.csv',\n",
       "  'dataset/s5_r_3/s5_r_3-paper-0-emg.csv'],\n",
       " ['dataset/s8_r_3/s8_r_3-rock-6-emg.csv',\n",
       "  'dataset/s1_r_6/s1_r_6-rock-0-emg.csv',\n",
       "  'dataset/s1_r_6/s1_r_6-rock-1-emg.csv'])"
      ]
     },
     "execution_count": 9,
     "metadata": {},
     "output_type": "execute_result"
    }
   ],
   "source": [
    "# fetch out the uncertain and certain points\n",
    "uncertains= []\n",
    "certains= []\n",
    "for i in range (BATCH_SIZE):\n",
    "    print(indices_to_filepaths[selected_points[0][i]])\n",
    "    print(indices_to_filepaths[selected_points2[0][i]])\n",
    "    uncertains.append(indices_to_filepaths[selected_points[0][i]])\n",
    "    certains.append(indices_to_filepaths[selected_points2[0][i]])\n",
    "\n",
    "uncertains,certains"
   ]
  },
  {
   "cell_type": "markdown",
   "metadata": {},
   "source": [
    "apply feature extraction functions"
   ]
  },
  {
   "cell_type": "code",
   "execution_count": 6,
   "metadata": {},
   "outputs": [],
   "source": [
    "import numpy as np\n",
    "import pandas as pd\n",
    "import scipy.signal\n",
    "import matplotlib.pyplot as plt\n",
    "\n",
    "\n",
    "## Feature extraction functions\n",
    "\n",
    "# Integrated EMG (IEMG), Mean Absolute (MAV)\n",
    "def get_iemg_mav(data):\n",
    "    iemg = np.sum(np.abs(data), axis=1)\n",
    "    mav = np.mean(np.abs(data), axis=1)\n",
    "    return iemg, mav\n",
    "\n",
    "# Simple Square Integral (SSI)\n",
    "def get_ssi(data):\n",
    "    ssi = np.sum(data**2, axis=1)\n",
    "    return ssi\n",
    "\n",
    "# Frequency Median (FMD)\n",
    "def get_fmd(f, psd, fmn):\n",
    "    numerator = np.sum(psd * (f - fmn)**2)\n",
    "    fmd = np.sqrt(numerator / np.sum(psd))\n",
    "    return fmd\n",
    "\n",
    "# Frequency Mean (FMN)\n",
    "def get_fmn_trial(f, psd):\n",
    "    fmn_trial = []\n",
    "    for ch in range(len(psd)):\n",
    "        ch_data = psd[ch,:]\n",
    "        fmn = sum(f * ch_data) / sum(ch_data)\n",
    "        fmn_trial.append(fmn)\n",
    "    return fmn_trial\n",
    "\n",
    "# ------------------------------------------------------------------------------------------\n",
    "\n",
    "## Read data file, apply filter, extract feature\n",
    "\n",
    "def read_emg_data(file_path):\n",
    "    # Assuming the file is a CSV with a header and timepoints are rows\n",
    "    data = pd.read_csv(file_path, usecols=list(range(2, 10)), skiprows=49)\n",
    "    return data\n",
    "\n",
    "def preprocess_emg(data, fs=1000, lowcut=20, highcut=450):\n",
    "    # Bandpass filter settings\n",
    "    nyq = 0.5 * fs  # Nyquist Frequency\n",
    "    low = lowcut / nyq\n",
    "    high = highcut / nyq\n",
    "    b, a = scipy.signal.butter(4, [low, high], btype='band')\n",
    "    \n",
    "    # Apply filter\n",
    "    filtered_data = scipy.signal.filtfilt(b, a, data, axis=0)\n",
    "    return filtered_data\n",
    "\n",
    "def extract_features(data):\n",
    "    # Assuming data is already preprocessed and shaped correctly\n",
    "    # Calculate PSD for frequency domain features\n",
    "    f, psd = scipy.signal.welch(data, fs=1000, nperseg=256)\n",
    "    fmn = get_fmn_trial(f, psd)\n",
    "    \n",
    "    # Time-domain features\n",
    "    iemg, mav = get_iemg_mav(data)\n",
    "    ssi = get_ssi(data)\n",
    "    var = np.var(data, axis=1)\n",
    "    rms = np.sqrt(np.mean(data**2, axis=1))\n",
    "    \n",
    "    # Frequency domain features\n",
    "    fmd = np.array([get_fmd(f, psd[ch, :], fmn[ch]) for ch in range(len(psd))])\n",
    "    \n",
    "    return iemg, mav, ssi, fmd, fmn, var, rms\n",
    "\n",
    "\n",
    "\n"
   ]
  },
  {
   "cell_type": "code",
   "execution_count": 10,
   "metadata": {},
   "outputs": [
    {
     "name": "stdout",
     "output_type": "stream",
     "text": [
      "Features:  <class 'tuple'> 7\n",
      "\n",
      "\n",
      "IEMG:  8\n",
      "IEMG:  [5734.58026898 4660.83822611 4349.79216689 3372.27586079 1559.11605734\n",
      " 1862.35996607 4403.92253259 6121.22896391]\n",
      "\n",
      "\n",
      "MAV:  8\n",
      "MAV:  [16.33783552 13.27874138 12.39257028  9.60762354  4.44192609  5.30586885\n",
      " 12.54678784 17.43939876]\n",
      "\n",
      "\n",
      "SSI:  8\n",
      "SSI:  [241345.08077868 133531.01345365  88498.1843243   74737.47876643\n",
      "  16074.60131952  24604.09318349 147683.0212972  260060.90126271]\n",
      "\n",
      "\n",
      "FMD:  8\n",
      "FMD:  [110.99790341 125.05992138 118.61682098 116.10061952 105.60862947\n",
      " 104.16695956 103.34957174 103.69617267]\n",
      "\n",
      "\n",
      "FMN:  8\n",
      "FMN:  [309.57810413262877, 264.65992444900377, 239.63015672110876, 273.9272260329568, 286.9212041449778, 268.5196092763544, 276.23650017627466, 313.7154297187972]\n",
      "\n",
      "\n",
      "VAR:  8\n",
      "VAR:  [687.47826629 380.42959779 251.98373465 212.37341067  45.69658258\n",
      "  70.0481909  420.37271042 740.25246155]\n",
      "\n",
      "\n",
      "RMS:  8\n",
      "RMS:  [26.2219912  19.50462093 15.87865168 14.5920283   6.76731741  8.37240298\n",
      " 20.51217561 27.21974005]\n",
      "\n",
      "\n",
      "Features:  <class 'tuple'> 7\n",
      "\n",
      "\n",
      "IEMG:  8\n",
      "IEMG:  [2087.54966051 2357.89044775 3399.07389632 1711.69106269  864.68923662\n",
      "  979.57718551 2135.22340023 3038.19203844]\n",
      "\n",
      "\n",
      "MAV:  8\n",
      "MAV:  [5.88042158 6.64194492 9.57485605 4.82166497 2.43574433 2.75937235\n",
      " 6.0147138  8.55828743]\n",
      "\n",
      "\n",
      "SSI:  8\n",
      "SSI:  [22569.08753101 25065.31407988 55358.98573532 15808.23706141\n",
      "  3277.50844516  4500.25059037 21781.46345565 43480.53885159]\n",
      "\n",
      "\n",
      "FMD:  8\n",
      "FMD:  [104.17792846 116.49696714 104.60284712  98.72089911 107.05316541\n",
      " 117.80014703 108.22441285  99.7003947 ]\n",
      "\n",
      "\n",
      "FMN:  8\n",
      "FMN:  [290.3685976135065, 246.01959101349067, 283.0859199438682, 300.91188928760806, 291.71433841134746, 293.4351337699722, 303.6736632359927, 294.4506797682691]\n",
      "\n",
      "\n",
      "VAR:  8\n",
      "VAR:  [ 63.5389799   70.59297083 155.93936971  44.52578733   9.22481843\n",
      "  12.66566343  61.34635259 122.46102313]\n",
      "\n",
      "\n",
      "RMS:  8\n",
      "RMS:  [ 7.97338664  8.4027685  12.48762607  6.67309862  3.03848945  3.56044411\n",
      "  7.83302209 11.06708594]\n",
      "\n",
      "\n",
      "Features:  <class 'tuple'> 7\n",
      "\n",
      "\n",
      "IEMG:  8\n",
      "IEMG:  [1045.91704543 1435.80249637 4471.69311891 3636.09907063 1235.6602856\n",
      " 1838.31237113 3397.24820403 3217.01080949]\n",
      "\n",
      "\n",
      "MAV:  8\n",
      "MAV:  [ 2.97982064  4.0906054  12.73986644 10.35925661  3.52039967  5.23735718\n",
      "  9.67876981  9.16527296]\n",
      "\n",
      "\n",
      "SSI:  8\n",
      "SSI:  [  7777.01455905  16380.75280329 100199.21210763  69886.52843999\n",
      "   7324.79493469  17624.38367474  58648.61611216  64668.92492832]\n",
      "\n",
      "\n",
      "FMD:  8\n",
      "FMD:  [109.87803012 119.32550823 128.78154907 114.24830605  97.97017912\n",
      " 131.1903327  101.40990814 110.07676016]\n",
      "\n",
      "\n",
      "FMN:  8\n",
      "FMN:  [279.7657070732329, 241.48846071424114, 296.2116046752335, 278.1847603184754, 233.2563090984344, 256.1509063636446, 281.13062742807136, 301.55432271721946]\n",
      "\n",
      "\n",
      "VAR:  8\n",
      "VAR:  [ 22.12964143  46.58399928 285.20259841 199.01290552  20.86676692\n",
      "  50.20987292 167.07760412 184.23462654]\n",
      "\n",
      "\n",
      "RMS:  8\n",
      "RMS:  [ 4.70709429  6.83145749 16.89579358 14.1105251   4.56819019  7.08603692\n",
      " 12.9263326  13.57357548]\n",
      "\n",
      "\n"
     ]
    }
   ],
   "source": [
    "for file_path in uncertains:\n",
    "    #file_path = 'dataset/s10_r_1/s10_r_1-paper-0-emg.csv'\n",
    "    raw_data = read_emg_data(file_path)\n",
    "    filtered_data = preprocess_emg(raw_data.values)\n",
    "    features = extract_features(filtered_data.T)  # Transpose if necessary based on your reshaping needs\n",
    "\n",
    "    print(\"Features: \", type(features), len(features))\n",
    "    print('\\n')\n",
    "    print(\"IEMG: \", len(features[0]))\n",
    "    print(\"IEMG: \", features[0])\n",
    "    print('\\n')\n",
    "    print(\"MAV: \", len(features[1]))\n",
    "    print(\"MAV: \", features[1])\n",
    "    print('\\n')\n",
    "    print(\"SSI: \", len(features[2]))\n",
    "    print(\"SSI: \", features[2])\n",
    "    print('\\n')\n",
    "    print(\"FMD: \", len(features[3]))\n",
    "    print(\"FMD: \", features[3])\n",
    "    print('\\n')\n",
    "    print(\"FMN: \", len(features[4]))\n",
    "    print(\"FMN: \", features[4])\n",
    "    print('\\n')\n",
    "    print(\"VAR: \", len(features[5]))\n",
    "    print(\"VAR: \", features[5])\n",
    "    print('\\n')\n",
    "    print(\"RMS: \", len(features[6]))\n",
    "    print(\"RMS: \", features[6])\n",
    "    print('\\n')"
   ]
  },
  {
   "cell_type": "markdown",
   "metadata": {},
   "source": [
    "exploration of characteristics of selected points "
   ]
  },
  {
   "cell_type": "code",
   "execution_count": 23,
   "metadata": {},
   "outputs": [
    {
     "data": {
      "image/png": "[encoded data removed]",
      "text/plain": [
       "<Figure size 432x288 with 1 Axes>"
      ]
     },
     "metadata": {
      "needs_background": "light"
     },
     "output_type": "display_data"
    },
    {
     "data": {
      "text/plain": [
       "array([2.87148935e+03, 8.15871277e+00, 6.33702495e+04, 1.10718914e+02,\n",
       "       2.79357944e+02, 1.80176997e+02, 1.17001606e+01])"
      ]
     },
     "execution_count": 23,
     "metadata": {},
     "output_type": "execute_result"
    }
   ],
   "source": [
    "# Calculate the mean across the data points (axis=0)\n",
    "uncertain_mean = np.mean(uncertain_features, axis=0)\n",
    "certain_mean = np.mean(certain_features, axis=0)\n",
    "\n",
    "# These means are 2D arrays of shape (7, 8), where 7 is the number of features\n",
    "# and 8 is the number of channels. To plot them, you might want to average over the channels as well,\n",
    "# or select a specific channel to plot.\n",
    "\n",
    "# For illustration, here's how you would average over the channels as well\n",
    "uncertain_mean = np.mean(uncertain_mean, axis=1)\n",
    "certain_mean = np.mean(certain_mean, axis=1)\n",
    "\n",
    "# Now you should have 1D arrays of shape (7,) that you can plot.\n",
    "\n",
    "# Plotting the mean features for uncertain and certain points\n",
    "feature_labels = ['IEMG', 'MAV', 'SSI', 'FMD', 'FMN', 'VAR', 'RMS']\n",
    "x = np.arange(len(feature_labels))  # the label locations\n",
    "\n",
    "fig, ax = plt.subplots()\n",
    "width = 0.35  # the width of the bars\n",
    "\n",
    "rects1 = ax.bar(x - width/2, uncertain_mean, width, label='Uncertain')\n",
    "rects2 = ax.bar(x + width/2, certain_mean, width, label='Certain')\n",
    "\n",
    "# Add some text for labels, title, and custom x-axis tick labels, etc.\n",
    "ax.set_ylabel('Mean Feature Values')\n",
    "ax.set_title('Mean of Features for Uncertain vs Certain Data Points')\n",
    "ax.set_xticks(x)\n",
    "ax.set_yscale('log')\n",
    "\n",
    "ax.set_xticklabels(feature_labels)\n",
    "ax.legend()\n",
    "\n",
    "fig.tight_layout()\n",
    "plt.show()\n",
    "\n",
    "uncertain_mean"
   ]
  },
  {
   "cell_type": "markdown",
   "metadata": {},
   "source": [
    "### MAV and SSI Differences:\n",
    "\n",
    "uncertain data points having a markedly higher mean value in these features. This could suggest that the uncertain points may have more variation or higher signal amplitudes, leading to a higher level of uncertainty in the classification.\n",
    "\n",
    "### RMS Observation:\n",
    "\n",
    "RMS (Root Mean Square) appears to be slightly higher for uncertain data points, which could correlate with the signal power and might be a factor in uncertainty if the model finds high-power signals harder to classify confidently.\n",
    "\n",
    "### IEMG:\n",
    "\n",
    "Higher IEMG values might be associated with stronger muscle contractions or more active muscle fibers during the recording period, which could lead to more variability within the signal, causing uncertainty in classification."
   ]
  }
 ],
 "metadata": {
  "kernelspec": {
   "display_name": "Python 3",
   "language": "python",
   "name": "python3"
  },
  "language_info": {
   "codemirror_mode": {
    "name": "ipython",
    "version": 3
   },
   "file_extension": ".py",
   "mimetype": "text/x-python",
   "name": "python",
   "nbconvert_exporter": "python",
   "pygments_lexer": "ipython3",
   "version": "3.11.4"
  }
 },
 "nbformat": 4,
 "nbformat_minor": 2
}
